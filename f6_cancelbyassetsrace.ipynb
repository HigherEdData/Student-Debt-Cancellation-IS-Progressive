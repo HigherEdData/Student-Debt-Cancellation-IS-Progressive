{
 "cells": [
  {
   "cell_type": "markdown",
   "metadata": {},
   "source": [
    "## Figure 6: $50K Cancellation By Assets, Race\n",
    "\n",
    "from \"Student Debt Cancellation *Is* Progressive\", a Roosevelt Institute research paper \n",
    "\n",
    "by Charlie Eaton, Adam Goldstein, Laura Hamilton, and Frederick Wherry"
   ]
  },
  {
   "cell_type": "code",
   "execution_count": 1,
   "metadata": {},
   "outputs": [],
   "source": [
    "*ssc install dubois\n",
    "*ssc install combomarginsplot\n",
    "graph set svg fontface Tahoma\n",
    "graph set eps fontface Tahoma\n",
    "graph set ps fontface Tahoma\n",
    "set scheme dubois"
   ]
  },
  {
   "cell_type": "code",
   "execution_count": 2,
   "metadata": {},
   "outputs": [],
   "source": [
    "use data/scfstudentdebt2019, clear"
   ]
  },
  {
   "cell_type": "code",
   "execution_count": 3,
   "metadata": {},
   "outputs": [],
   "source": [
    "qui {\n",
    "\n",
    "gen selfparent=self_fedloans + parentalfedloans\n",
    "    \n",
    "foreach amt in 10000 50000 75000 {\n",
    "gen selfcancel`amt'=`amt'\n",
    "    replace selfcancel`amt'=selfparent if selfparent<`amt'\n",
    "\n",
    "gen spousecancel`amt'=`amt'\n",
    "replace spousecancel`amt'=spouse_fedloans if spouse_fedloans<`amt'\n",
    "  \n",
    "egen householdcancel`amt'=rowtotal(selfcancel`amt' spousecancel`amt')\n",
    "\n",
    "gen percapcancel`amt'=householdcancel`amt'\n",
    "    replace percapcancel`amt'=householdcancel`amt' / 2  if married==1 & householdcancel`amt'!=0\n",
    "    }\n",
    "}"
   ]
  },
  {
   "cell_type": "code",
   "execution_count": 4,
   "metadata": {},
   "outputs": [
    {
     "name": "stdout",
     "output_type": "stream",
     "text": [
      "\n",
      "\n",
      "& invalid name\n"
     ]
    },
    {
     "name": "stderr",
     "output_type": "stream",
     "text": [
      "r(198);\n",
      "r(198);\n"
     ]
    },
    {
     "name": "stdout",
     "output_type": "stream",
     "text": [
      "\n",
      "\n"
     ]
    }
   ],
   "source": [
    "qui regress percapcancel50000 i.assetcat##i.race if selfstudent!=1 & spousestudent!=1 [pw=wgt] \n",
    "qui margins i.assetcat#i.race & race<4"
   ]
  },
  {
   "cell_type": "code",
   "execution_count": null,
   "metadata": {},
   "outputs": [],
   "source": [
    "marginsplot, name(low, replace) graphregion(margin(large)) ///\n",
    "legend(pos(12)) ///\n",
    "ytitle(MEAN $ CANCELLED PER CAPITA) title(\"FIGURE 6: $50K CANCELLATION BY ASSETS, RACE\") ///\n",
    "xscale(titlegap(large)) xtitle(HOUSEHOLD ASSET QUANTILES) graphregion(margin(large)) ///\n",
    "note(\" \" \"Note: Data from Survey of Consumer Finances 2019. Excludes debt of adult\" ///\n",
    "    \"children living with parents. Excludes debt of households where respondent\" ///\n",
    "    \"or spouse/partner is currently a student.\", size(small) xoffset(0)) graphregion(margin(large)) ///\n",
    "    xscale(titlegap(large)) ylabel(0 \"$0\" 5000 \"$5K\" 10000 \"$10K\" 15000 \"$15K\") ///\n",
    "    xtitle(HOUSEHOLD ASSET QUANTILES) scheme(dubois)"
   ]
  },
  {
   "cell_type": "code",
   "execution_count": null,
   "metadata": {},
   "outputs": [],
   "source": [
    "graph export figures/f6_cancelassetsrace.pdf, replace"
   ]
  },
  {
   "cell_type": "code",
   "execution_count": null,
   "metadata": {},
   "outputs": [],
   "source": [
    "qui gen age2=age*age"
   ]
  },
  {
   "cell_type": "code",
   "execution_count": null,
   "metadata": {},
   "outputs": [],
   "source": [
    "qui regress percapcancel50000 i.assetcat##i.race age age2 if selfstudent!=1 & spousestudent!=1 & race<4 [pw=wgt] \n",
    "qui margins i.assetcat#i.race"
   ]
  },
  {
   "cell_type": "code",
   "execution_count": null,
   "metadata": {},
   "outputs": [],
   "source": [
    "marginsplot, name(low, replace) graphregion(margin(large)) ///\n",
    "legend(pos(12)) ///\n",
    "ytitle(MEAN $ CANCELLED PER CAPITA) title(\"FIGURE 6B: $50K CANCELLATION BY ASSETS, RACE\" ///\n",
    "\"WITH AGE CONTROLS\") ///\n",
    "xscale(titlegap(large)) xtitle(HOUSEHOLD ASSET QUANTILES) graphregion(margin(large)) ///\n",
    "note(\" \" \"Note: Data from Survey of Consumer Finances 2019. Excludes debt of adult\" ///\n",
    "    \"children living with parents. Excludes debt of households where respondent\" ///\n",
    "    \"or partner is currently a student. Estimates control for respondent age.\", size(small) xoffset(0)) graphregion(margin(large)) ///\n",
    "    xscale(titlegap(large)) ylabel(0 \"$0\" 5000 \"$5K\" 10000 \"$10K\" 15000 \"$15K\") ///\n",
    "    xtitle(HOUSEHOLD ASSET QUANTILES) scheme(dubois)"
   ]
  },
  {
   "cell_type": "code",
   "execution_count": null,
   "metadata": {},
   "outputs": [],
   "source": []
  }
 ],
 "metadata": {
  "kernelspec": {
   "display_name": "Stata",
   "language": "stata",
   "name": "stata"
  },
  "language_info": {
   "codemirror_mode": "stata",
   "file_extension": ".do",
   "mimetype": "text/x-stata",
   "name": "stata",
   "version": "15.1"
  }
 },
 "nbformat": 4,
 "nbformat_minor": 4
}
