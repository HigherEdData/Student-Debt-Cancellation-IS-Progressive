{
 "cells": [
  {
   "cell_type": "markdown",
   "id": "842566b8-d2a2-4a36-ae92-498ad6c76016",
   "metadata": {},
   "source": [
    "### Warren Letter Table 1: Cancelation Per Person and Persons Left with Debt by Maximum Cancelation Per Borrower Scenarios\n",
    "\n",
    "for letter, see https://github.com/HigherEdData/Student-Debt-Cancellation-IS-Progressive/blob/main/warren%20student%20debt%20cancelation%20letter.pdf"
   ]
  },
  {
   "cell_type": "code",
   "execution_count": 1,
   "id": "3c364807-0f44-4dec-8ecb-6954d9d8e0f1",
   "metadata": {},
   "outputs": [],
   "source": [
    "set line 255\n",
    "set more off"
   ]
  },
  {
   "cell_type": "code",
   "execution_count": 2,
   "id": "51ebc603-2605-4ebc-ba32-6798617ef343",
   "metadata": {},
   "outputs": [],
   "source": [
    "**Uncomment this code to download data from github if you haven't downloaded data already by cloning the repository or otherwise downloading\n",
    "\n",
    "*copy \"https://github.com/HigherEdData/Student-Debt-Cancellation-IS-Progressive/blob/main/data/scfstudentdebt2019.dta\" scfstudentdebt2019"
   ]
  },
  {
   "cell_type": "code",
   "execution_count": 3,
   "id": "864dbee7-faf5-403d-bfb1-0d3ed8d30ee8",
   "metadata": {},
   "outputs": [],
   "source": [
    "**Skip this code if you are already working in a directory with the data\n",
    "qui cd data"
   ]
  },
  {
   "cell_type": "code",
   "execution_count": 4,
   "id": "934d4d3f-6678-47b0-95e6-a2eded5552dd",
   "metadata": {},
   "outputs": [
    {
     "name": "stdout",
     "output_type": "stream",
     "text": [
      "\n",
      "\n",
      "\n",
      "\n",
      "\n",
      "\n",
      "\n",
      "\n",
      "   Stats |   percap~n   pe~10000\n",
      "---------+----------------------\n",
      "    Mean |      4,235        972\n",
      "--------------------------------\n",
      "\n",
      "   Stats |   percap~n   pe~20000\n",
      "---------+----------------------\n",
      "    Mean |      4,235      1,655\n",
      "--------------------------------\n",
      "\n",
      "   Stats |   percap~n   pe~30000\n",
      "---------+----------------------\n",
      "    Mean |      4,235      2,154\n",
      "--------------------------------\n",
      "\n",
      "   Stats |   percap~n   pe~40000\n",
      "---------+----------------------\n",
      "    Mean |      4,235      2,529\n",
      "--------------------------------\n",
      "\n",
      "   Stats |   percap~n   pe~50000\n",
      "---------+----------------------\n",
      "    Mean |      4,235      2,810\n",
      "--------------------------------\n",
      "\n",
      "\n",
      "\n",
      "\n",
      "\n",
      "\n",
      "\n",
      "\n",
      "\n",
      "\n",
      "\n",
      "\n"
     ]
    }
   ],
   "source": [
    "qui use scfstudentdebt2019, clear\n",
    "\n",
    "qui     gen selfparent=self_fedloans + parent_fedloans\n",
    "    qui gen pctbefore=percapfedloan!=0\n",
    "\n",
    "    qui  gen inccapcanel=\"\"\n",
    "   qui  replace inccapcanel=\"cap\" if income>150000 & married!=1\n",
    "   qui  replace inccapcanel=\"cap\" if income>300000 & married==1\n",
    "\n",
    "foreach cap in cap  {\n",
    "    \n",
    "forvalues amt=10000(10000)50000 {\n",
    "    \n",
    "qui gen selfcancel`amt'=`amt'\n",
    "   qui  replace selfcancel`amt'=selfparent if selfparent<`amt'\n",
    "\n",
    "qui gen spousecancel`amt'=`amt'\n",
    "qui replace spousecancel`amt'=spouse_fedloans if spouse_fedloans<`amt'\n",
    "  \n",
    "qui egen householdcancel`amt'=rowtotal(selfcancel`amt' spousecancel`amt')\n",
    "    \n",
    "qui  gen percapcancel`amt'=householdcancel`amt'\n",
    "   qui  replace percapcancel`amt'=householdcancel`amt' / 2  if married==1 & householdcancel`amt'!=0\n",
    "  \n",
    "qui replace percapcancel`amt'=0 if inccapcanel==\"`cap'\"\n",
    "    \n",
    "qui gen pctafter`amt'=percapfedloan-percapcancel`amt'!=0\n",
    "      \n",
    "tabstat percapfedloan percapcancel`amt'[aweight=wgt], stat(mean) format(%10.0fc) \n",
    "    \n",
    "    }\n",
    "\n",
    "}\n",
    "    \n",
    "collapse (mean) percapfedloan pctbefore pctafter* percapcancel* [pweight=wgt], by(race)\n",
    "\n",
    " qui     gen beforeM=pctbefore * 31.42 if race==1\n",
    " qui     replace beforeM=pctbefore * 42.68 if race==2\n",
    "  qui    replace beforeM=pctbefore * 160.640 if race==3\n",
    "  qui    replace beforeM=pctbefore * 21.9196 if race==5\n",
    "  qui  set obs 5 \n",
    "    qui egen allbeforeM=total(beforeM)\n",
    "\n",
    "    qui replace beforeM=allbeforeM if beforeM==.\n",
    "      qui replace pctbefore=beforeM/(31.42+42.68+160.640+21.9196) if pctbefore==.\n",
    "    \n",
    "forvalues amt=10000(10000)50000 {\n",
    "    \n",
    " qui     gen afterM`amt'=pctafter`amt' * 31.42 if race==1\n",
    "  qui    replace afterM`amt'=pctafter`amt' * 42.68 if race==2\n",
    "  qui    replace afterM`amt'=pctafter`amt' * 160.640 if race==3\n",
    "      qui    replace afterM`amt'=pctafter`amt' *  21.9196 if race==5\n",
    "\n",
    "    qui egen allafterM`amt'=total(afterM`amt')\n",
    "    \n",
    "    qui replace afterM`amt'=allafterM`amt' if afterM`amt'==.\n",
    "       \n",
    "     qui replace pctafter`amt'=afterM`amt'/(31.42+42.68+160.640+21.9196) if pctafter`amt'==.\n",
    "    \n",
    "}\n",
    "\n",
    "   qui drop all*\n",
    "     \n",
    "    outsheet race percapfedloan beforeM pctbefore percapcancel10000 afterM10000 pctafter10000 ///\n",
    "    percapcancel20000 afterM20000 pctafter20000 percapcancel30000 afterM30000 pctafter30000 ///\n",
    "    percapcancel30000 afterM40000 pctafter40000 percapcancel50000 afterM50000 pctafter50000 ///\n",
    "    using byracescenarioscap.csv, comma replace"
   ]
  },
  {
   "cell_type": "code",
   "execution_count": 5,
   "id": "23827b54-b63a-4b80-b989-41fd25fd6bda",
   "metadata": {},
   "outputs": [],
   "source": [
    "format * %10.2fc"
   ]
  },
  {
   "cell_type": "code",
   "execution_count": 6,
   "id": "84a28202-af70-463b-9f28-a6332ff2667f",
   "metadata": {},
   "outputs": [
    {
     "name": "stdout",
     "output_type": "stream",
     "text": [
      "\n",
      "\n",
      "     +-------------------------------------------------------------------------+\n",
      "     |   race   percap~n   beforeM   pctbef~e   pe~10000   af~10000   pc~10000 |\n",
      "     |-------------------------------------------------------------------------|\n",
      "  1. |  Black   7,517.05      7.47       0.24   1,649.13       5.24       0.17 |\n",
      "  2. | Latinx   2,892.16      5.29       0.12     666.25       3.39       0.08 |\n",
      "  3. |  white   3,771.15     24.33       0.15     895.24      16.86       0.10 |\n",
      "  4. |  other   3,289.43      2.39       0.11     597.52       1.40       0.06 |\n",
      "  5. |      .          .     39.48       0.15          .      26.89       0.10 |\n",
      "     +-------------------------------------------------------------------------+\n",
      "\n",
      "\n",
      "     +--------------------------------------------------------------------------+\n",
      "     |   race   pe~20000   af~20000   pc~20000   pe~30000   af~30000   pc~30000 |\n",
      "     |--------------------------------------------------------------------------|\n",
      "  1. |  Black   2,867.08       4.12       0.13   3,858.40       3.48       0.11 |\n",
      "  2. | Latinx   1,117.97       1.99       0.05   1,389.15       1.77       0.04 |\n",
      "  3. |  white   1,514.76      12.32       0.08   1,949.38       9.20       0.06 |\n",
      "  4. |  other     998.91       1.27       0.06   1,345.11       0.84       0.04 |\n",
      "  5. |      .          .      19.70       0.08          .      15.29       0.06 |\n",
      "     +--------------------------------------------------------------------------+\n",
      "\n",
      "\n",
      "     +--------------------------------------------------------------------------+\n",
      "     |   race   pe~30000   af~40000   pc~40000   pe~50000   af~50000   pc~50000 |\n",
      "     |--------------------------------------------------------------------------|\n",
      "  1. |  Black   3,858.40       2.57       0.08   5,233.49       2.02       0.06 |\n",
      "  2. | Latinx   1,389.15       1.11       0.03   1,774.21       1.02       0.02 |\n",
      "  3. |  white   1,949.38       7.19       0.04   2,502.17       5.81       0.04 |\n",
      "  4. |  other   1,345.11       0.69       0.03   1,754.93       0.57       0.03 |\n",
      "  5. |      .          .      11.56       0.05          .       9.42       0.04 |\n",
      "     +--------------------------------------------------------------------------+\n"
     ]
    }
   ],
   "source": [
    "list race percapfedloan beforeM pctbefore percapcancel10000 afterM10000 pctafter10000\n",
    " list race    percapcancel20000 afterM20000 pctafter20000 percapcancel30000 afterM30000 pctafter30000\n",
    " list race    percapcancel30000 afterM40000 pctafter40000 percapcancel50000 afterM50000 pctafter50000 "
   ]
  },
  {
   "cell_type": "code",
   "execution_count": null,
   "id": "b9f904cb-272a-4312-ba6c-a1b98702e5af",
   "metadata": {},
   "outputs": [],
   "source": []
  }
 ],
 "metadata": {
  "kernelspec": {
   "display_name": "Stata",
   "language": "stata",
   "name": "stata"
  },
  "language_info": {
   "codemirror_mode": "stata",
   "file_extension": ".do",
   "mimetype": "text/x-stata",
   "name": "stata",
   "version": "15.1"
  }
 },
 "nbformat": 4,
 "nbformat_minor": 5
}
