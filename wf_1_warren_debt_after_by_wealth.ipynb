{
 "cells": [
  {
   "cell_type": "markdown",
   "id": "842566b8-d2a2-4a36-ae92-498ad6c76016",
   "metadata": {},
   "source": [
    "### Warren Letter Figure 1: Share of Individuals with Debt After Cancelation by Asset Wealth Quantile\n",
    "\n",
    "for rendering of figure from table estimates output below, see https://github.com/HigherEdData/Student-Debt-Cancellation-IS-Progressive/blob/main/warren_figures_tables.xlsx\n",
    "\n",
    "for letter, see https://github.com/HigherEdData/Student-Debt-Cancellation-IS-Progressive/blob/main/warren%20student%20debt%20cancelation%20letter.pdf"
   ]
  },
  {
   "cell_type": "code",
   "execution_count": 1,
   "id": "3c364807-0f44-4dec-8ecb-6954d9d8e0f1",
   "metadata": {},
   "outputs": [],
   "source": [
    "set line 255\n",
    "set more off"
   ]
  },
  {
   "cell_type": "code",
   "execution_count": 2,
   "id": "51ebc603-2605-4ebc-ba32-6798617ef343",
   "metadata": {},
   "outputs": [],
   "source": [
    "**Uncomment this code to download data from github if you haven't downloaded data already by cloning the repository or otherwise downloading\n",
    "\n",
    "*copy \"https://github.com/HigherEdData/Student-Debt-Cancellation-IS-Progressive/blob/main/data/scfstudentdebt2019.dta\" scfstudentdebt2019"
   ]
  },
  {
   "cell_type": "code",
   "execution_count": 3,
   "id": "864dbee7-faf5-403d-bfb1-0d3ed8d30ee8",
   "metadata": {},
   "outputs": [],
   "source": [
    "**Skip this code if you are already working in a directory with the data\n",
    "\n",
    "qui cd data"
   ]
  },
  {
   "cell_type": "code",
   "execution_count": 4,
   "id": "f294f845-d6b0-40ee-96fb-510c226c78ea",
   "metadata": {},
   "outputs": [],
   "source": [
    "** remove \"data/\" directory location if you downloaded data into your current directory\n",
    "qui use scfstudentdebt2019, clear"
   ]
  },
  {
   "cell_type": "code",
   "execution_count": 5,
   "id": "934d4d3f-6678-47b0-95e6-a2eded5552dd",
   "metadata": {},
   "outputs": [],
   "source": [
    "qui     gen selfparent=self_fedloans + parent_fedloans\n",
    "    qui gen pctbefore=percapfedloan!=0\n",
    "\n",
    "    qui  gen inccapcanel=\"\"\n",
    "   qui  replace inccapcanel=\"cap\" if income>150000 & married!=1\n",
    "   qui  replace inccapcanel=\"cap\" if income>300000 & married==1\n",
    "\n",
    "foreach cap in cap  {\n",
    "    \n",
    "forvalues amt=10000(10000)50000 {\n",
    "    \n",
    "qui gen selfcancel`amt'=`amt'\n",
    "   qui  replace selfcancel`amt'=selfparent if selfparent<`amt'\n",
    "\n",
    "qui gen spousecancel`amt'=`amt'\n",
    "qui replace spousecancel`amt'=spouse_fedloans if spouse_fedloans<`amt'\n",
    "  \n",
    "qui egen householdcancel`amt'=rowtotal(selfcancel`amt' spousecancel`amt')\n",
    "    \n",
    "qui  gen percapcancel`amt'=householdcancel`amt'\n",
    "   qui  replace percapcancel`amt'=householdcancel`amt' / 2  if married==1 & householdcancel`amt'!=0\n",
    "  \n",
    "qui replace percapcancel`amt'=0 if inccapcanel==\"`cap'\"\n",
    "    \n",
    "qui gen pctafter`amt'=percapfedloan-percapcancel`amt'!=0\n",
    "         \n",
    "    }\n",
    "\n",
    "}\n",
    "    \n",
    "collapse (mean) percapfedloan pctbefore pctafter* percapcancel* [pweight=wgt], by(assetcat)"
   ]
  },
  {
   "cell_type": "code",
   "execution_count": 6,
   "id": "23827b54-b63a-4b80-b989-41fd25fd6bda",
   "metadata": {},
   "outputs": [],
   "source": [
    "format pct* %10.2fc"
   ]
  },
  {
   "cell_type": "code",
   "execution_count": 7,
   "id": "a60147af-e4e5-4905-8b54-c902242b9819",
   "metadata": {},
   "outputs": [
    {
     "name": "stdout",
     "output_type": "stream",
     "text": [
      ". list asset pctbefore pctafter10000 pctafter20000 pctafter20000 pctafter30000 \n",
      "> pctafter40000 pctafter50000\n",
      "\n",
      "     +---------------------------------------------------------------------------------------+\n",
      "     | assetcat   pctbef~e   pc~10000   pc~20000   pc~20000   pc~30000   pc~40000   pc~50000 |\n",
      "     |---------------------------------------------------------------------------------------|\n",
      "  1. |    0-20%       0.15       0.10       0.07       0.07       0.04       0.03       0.02 |\n",
      "  2. |   20-40%       0.20       0.15       0.11       0.11       0.08       0.06       0.05 |\n",
      "  3. |   40-60%       0.19       0.14       0.10       0.10       0.09       0.06       0.05 |\n",
      "  4. |   60-80%       0.17       0.11       0.08       0.08       0.07       0.06       0.05 |\n",
      "  5. |   80-90%       0.11       0.07       0.05       0.05       0.04       0.04       0.04 |\n",
      "     |---------------------------------------------------------------------------------------|\n",
      "  6. |  90-100%       0.04       0.04       0.04       0.04       0.03       0.03       0.02 |\n",
      "     +---------------------------------------------------------------------------------------+\n"
     ]
    }
   ],
   "source": [
    "list asset pctbefore pctafter10000 pctafter20000 pctafter20000 pctafter30000 pctafter40000 pctafter50000"
   ]
  },
  {
   "cell_type": "code",
   "execution_count": 8,
   "id": "2504f8d5-6369-4ba7-8195-ceb1f56a81d8",
   "metadata": {},
   "outputs": [
    {
     "name": "stdout",
     "output_type": "stream",
     "text": [
      "(file wf1_pct_debt_after_by_assets.csv not found)\n"
     ]
    }
   ],
   "source": [
    "outsheet using wf1_pct_debt_after_by_assets.csv, comma replace"
   ]
  },
  {
   "cell_type": "code",
   "execution_count": null,
   "id": "b9f904cb-272a-4312-ba6c-a1b98702e5af",
   "metadata": {},
   "outputs": [],
   "source": []
  }
 ],
 "metadata": {
  "kernelspec": {
   "display_name": "Stata",
   "language": "stata",
   "name": "stata"
  },
  "language_info": {
   "codemirror_mode": "stata",
   "file_extension": ".do",
   "mimetype": "text/x-stata",
   "name": "stata",
   "version": "15.1"
  }
 },
 "nbformat": 4,
 "nbformat_minor": 5
}
