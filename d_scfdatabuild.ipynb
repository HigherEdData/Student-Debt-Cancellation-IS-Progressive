{
 "cells": [
  {
   "cell_type": "markdown",
   "metadata": {},
   "source": [
    "## Data Build for \"Student Debt Cancellation *Is* Progressive\"\n",
    "\n",
    "a Roosevelt Institute research paper \n",
    "\n",
    "by Charlie Eaton, Adam Goldstein, Laura Hamilton, and Frederick Wherry"
   ]
  },
  {
   "cell_type": "code",
   "execution_count": null,
   "metadata": {},
   "outputs": [],
   "source": [
    "qui copy https://www.federalreserve.gov/econres/files/scfp2019s.zip data/scfp2019s.zip\n",
    "qui unzipfile data/scfp2019s.zip, replace\n",
    "qui copy https://www.federalreserve.gov/econres/files/scf2019s.zip data/scf2019s.zip\n",
    "qui unzipfile data/scf2019s.zip, replace"
   ]
  },
  {
   "cell_type": "code",
   "execution_count": 3,
   "metadata": {},
   "outputs": [],
   "source": [
    "use yy1 y1 x7978 x7883 x7888 x7893 x7898 x7993 x7879 x7884 x7889 x7894 x7899 x7994 ///\n",
    "x7824 x7847 x7870 x7924 x7947 x7970 x8030 x8032 x8034 x8036 x8038 x8040 ///\n",
    "x9300 x9301 x9302 x9303 x9304 x9305 using p19i6, clear\n",
    "\n",
    "qui merge 1:1 yy1 y1 using rscfp2019"
   ]
  },
  {
   "cell_type": "code",
   "execution_count": 4,
   "metadata": {},
   "outputs": [],
   "source": [
    "qui {\n",
    "    \n",
    "gen tagfedloan1=1 if x7879==1 \n",
    "gen tagfedloan2=1 if x7884==1  \n",
    "gen tagfedloan3=1 if x7889==1  \n",
    "gen tagfedloan4=1 if x7894==1  \n",
    "gen tagfedloan5=1 if x7899==1  \n",
    "gen tagfedloan6=1 if x7994==1\n",
    "\n",
    "gen balfedloan1=x7824 if x7879==1 \n",
    "gen balfedloan2=x7847 if x7884==1  \n",
    "gen balfedloan3=x7870 if x7889==1  \n",
    "gen balfedloan4=x7924 if x7894==1  \n",
    "gen balfedloan5=x7947 if x7899==1  \n",
    "gen balfedloan6=x7970 if x7994==1\n",
    "\n",
    "egen totfedloan= rowtotal(balfedloan1-balfedloan6)\n",
    "    \n",
    "for varlist x7978 x7883 x7888 x7893 x7898 x7993: recode X 0=.\n",
    "\n",
    "*loan in enrollment or postgraduate grace period == 4, self loan==1\n",
    "gen selffedloan1=balfedloan1 if x7978==1 & x9300!=4\n",
    "gen selffedloan2=balfedloan2 if x7883==1 & x9301!=4\n",
    "gen selffedloan3=balfedloan3 if x7888==1 & x9302!=4\n",
    "gen selffedloan4=balfedloan4 if x7893==1 & x9303!=4\n",
    "gen selffedloan5=balfedloan5 if x7898==1 & x9304!=4\n",
    "gen selffedloan6=balfedloan6 if x7993==1 & x9305!=4\n",
    "\n",
    "*loan in enrollment or postgraduate grace period == 4, spouse loan==1\n",
    "gen spousefedloan1=balfedloan1 if x7978==2 & x9300!=4\n",
    "gen spousefedloan2=balfedloan2 if x7883==2 & x9301!=4\n",
    "gen spousefedloan3=balfedloan3 if x7888==2 & x9302!=4\n",
    "gen spousefedloan4=balfedloan4 if x7893==2 & x9303!=4\n",
    "gen spousefedloan5=balfedloan5 if x7898==2 & x9304!=4\n",
    "gen spousefedloan6=balfedloan6 if x7993==2 & x9305!=4\n",
    "\n",
    "gen parentfedloan1=balfedloan1 if x7978!=1 & x7978!=2 & x9300!=4\n",
    "gen parentfedloan2=balfedloan2 if x7883!=1 & x7883!=2 & x9301!=4\n",
    "gen parentfedloan3=balfedloan3 if x7888!=1 & x7888!=2 & x9302!=4\n",
    "gen parentfedloan4=balfedloan4 if x7893!=1 & x7893!=2 & x9303!=4\n",
    "gen parentfedloan5=balfedloan5 if x7898!=1 & x7898!=2 & x9304!=4\n",
    "gen parentfedloan6=balfedloan6 if x7993!=1 & x7993!=2 & x9305!=4\n",
    "    \n",
    "*loan in enrollment or postgraduate grace period == 4\n",
    "gen privloan1=x7824 if x7879==5 & x9300!=4  \n",
    "gen privloan2=x7847 if x7884==5 & x9301!=4\n",
    "gen privloan3=x7870 if x7889==5 & x9302!=4\n",
    "gen privloan4=x7924 if x7894==5 & x9303!=4\n",
    "gen privloan5=x7947 if x7899==5 & x9304!=4\n",
    "gen privloan6=x7970 if x7994==5 & x9305!=4\n",
    "\n",
    "egen privloans= rowtotal(privloan1-privloan6)\n",
    "\n",
    "egen self_fedloans= rowtotal(selffedloan1-selffedloan6)\n",
    "\n",
    "egen spouse_fedloans= rowtotal(spousefedloan1-spousefedloan6)\n",
    "\n",
    "egen parent_fedloans= rowtotal(parentfedloan1-parentfedloan6)\n",
    "    \n",
    "egen allfedloans= rowtotal(self_fedloans spouse_fedloans parent_fedloans)\n",
    "    \n",
    "gen percapfedloan=allfedloans\n",
    "replace percapfedloan=allfedloans / 2 if married==1 & allfedloans!=0\n",
    "    \n",
    "gen percapprivate=privloans\n",
    "    replace percapprivate=privloans/2 if married==1 & privloans!=0\n",
    "}"
   ]
  },
  {
   "cell_type": "code",
   "execution_count": 5,
   "metadata": {},
   "outputs": [],
   "source": [
    "label define cat 1 \"0-20%\" 2 \"20-40%\" 3 \"40-60%\" 4 \"60-80%\" 5 \"80-90%\" 6 \"90-100%\"\n",
    "label val assetcat cat\n",
    "label var assetcat \"household asset quantiles\""
   ]
  },
  {
   "cell_type": "code",
   "execution_count": 6,
   "metadata": {},
   "outputs": [],
   "source": [
    "qui recode race (2=1) (3=2) (1=3)\n",
    "qui label define race 1 \"Black\" 2 \"Latinx\" 3 \"white\" 5 \"other\"\n",
    "qui label values race race"
   ]
  },
  {
   "cell_type": "code",
   "execution_count": 7,
   "metadata": {},
   "outputs": [
    {
     "name": "stdout",
     "output_type": "stream",
     "text": [
      "file data/scfstudentdebt2019.dta saved\n"
     ]
    }
   ],
   "source": [
    "save data/scfstudentdebt2019, replace"
   ]
  },
  {
   "cell_type": "code",
   "execution_count": null,
   "metadata": {},
   "outputs": [],
   "source": []
  }
 ],
 "metadata": {
  "kernelspec": {
   "display_name": "Stata",
   "language": "stata",
   "name": "stata"
  },
  "language_info": {
   "codemirror_mode": "stata",
   "file_extension": ".do",
   "mimetype": "text/x-stata",
   "name": "stata",
   "version": "15.1"
  }
 },
 "nbformat": 4,
 "nbformat_minor": 4
}
