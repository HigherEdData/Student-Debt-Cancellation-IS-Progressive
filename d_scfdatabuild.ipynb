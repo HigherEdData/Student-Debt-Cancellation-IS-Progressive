{
 "cells": [
  {
   "cell_type": "markdown",
   "metadata": {},
   "source": [
    "## Data Build for \"Student Debt Cancellation *Is* Progressive\"\n",
    "\n",
    "a Roosevelt Institute research paper \n",
    "\n",
    "by Charlie Eaton, Adam Goldstein, Laura Hamilton, and Frederick Wherry"
   ]
  },
  {
   "cell_type": "code",
   "execution_count": null,
   "metadata": {},
   "outputs": [],
   "source": [
    "qui copy https://www.federalreserve.gov/econres/files/scfp2019s.zip data/scfp2019s.zip\n",
    "qui unzipfile data/scfp2019s.zip, replace\n",
    "qui copy https://www.federalreserve.gov/econres/files/scf2019s.zip data/scf2019s.zip\n",
    "qui unzipfile data/scf2019s.zip, replace"
   ]
  },
  {
   "cell_type": "code",
   "execution_count": 1,
   "metadata": {},
   "outputs": [],
   "source": [
    "use yy1 y1 x7978 x7883 x7888 x7893 x7898 x7993 x7879 x7884 x7889 x7894 x7899 x7994 ///\n",
    "x7824 x7847 x7870 x7924 x7947 x7970 x8030 x8032 x8034 x8036 x8038 x8040 ///\n",
    "x6670 x6671 x6672 x6673 x6674 x6675 x6676 x6677 ///\n",
    "x6678 x6679 x6680 x6681 x6682 x6683 x6684 x6685 ///\n",
    "x7806 x7829 x7852 x7906 x7929 x7952 using p19i6, clear\n",
    "\n",
    "qui merge 1:1 yy1 y1 using rscfp2019\n",
    "\n",
    "*tab x6670\n",
    "*tab x6678\n",
    "*tab x8030"
   ]
  },
  {
   "cell_type": "code",
   "execution_count": 2,
   "metadata": {},
   "outputs": [],
   "source": [
    "qui {\n",
    "    \n",
    "gen tagfedloan1=1 if x7879==1 \n",
    "gen tagfedloan2=1 if x7884==1  \n",
    "gen tagfedloan3=1 if x7889==1  \n",
    "gen tagfedloan4=1 if x7894==1  \n",
    "gen tagfedloan5=1 if x7899==1  \n",
    "gen tagfedloan6=1 if x7994==1\n",
    "\n",
    "gen balfedloan1=x7824 if x7879==1 \n",
    "gen balfedloan2=x7847 if x7884==1  \n",
    "gen balfedloan3=x7870 if x7889==1  \n",
    "gen balfedloan4=x7924 if x7894==1  \n",
    "gen balfedloan5=x7947 if x7899==1  \n",
    "gen balfedloan6=x7970 if x7994==1\n",
    "\n",
    "egen totfedloan_debt= rowtotal(balfedloan1-balfedloan6)\n",
    "    \n",
    "for varlist x7978 x7883 x7888 x7893 x7898 x7993: recode X 0=.\n",
    "\n",
    "gen selffedloan1=balfedloan1 if x7978==1\n",
    "gen selffedloan2=balfedloan2 if x7883==1\n",
    "gen selffedloan3=balfedloan3 if x7888==1\n",
    "gen selffedloan4=balfedloan4 if x7893==1\n",
    "gen selffedloan5=balfedloan5 if x7898==1\n",
    "gen selffedloan6=balfedloan6 if x7993==1\n",
    "\n",
    "gen spousefedloan1=balfedloan1 if x7978==2\n",
    "gen spousefedloan2=balfedloan2 if x7883==2\n",
    "gen spousefedloan3=balfedloan3 if x7888==2\n",
    "gen spousefedloan4=balfedloan4 if x7893==2\n",
    "gen spousefedloan5=balfedloan5 if x7898==2\n",
    "gen spousefedloan6=balfedloan6 if x7993==2\n",
    "    \n",
    "gen rpybalfedloan1=x7824 if x7879==1 & x7806==1  \n",
    "gen rpybalfedloan2=x7847 if x7884==1 & x7829==1\n",
    "gen rpybalfedloan3=x7870 if x7889==1 & x7852==1\n",
    "gen rpybalfedloan4=x7924 if x7894==1 & x7906==1\n",
    "gen rpybalfedloan5=x7947 if x7899==1 & x7929==1\n",
    "gen rpybalfedloan6=x7970 if x7994==1 & x7952==1\n",
    "    \n",
    "gen norpybalfedloan1=x7824 if x7879==1 & x7806==5  \n",
    "gen norpybalfedloan2=x7847 if x7884==1 & x7829==5\n",
    "gen norpybalfedloan3=x7870 if x7889==1 & x7852==5\n",
    "gen norpybalfedloan4=x7924 if x7894==1 & x7906==5\n",
    "gen norpybalfedloan5=x7947 if x7899==1 & x7929==5\n",
    "gen norpybalfedloan6=x7970 if x7994==1 & x7952==5\n",
    "    \n",
    "gen rpyprivloan1=x7824 if x7879==5 & x7806==1  \n",
    "gen rpyprivloan2=x7847 if x7884==5 & x7829==1\n",
    "gen rpyprivloan3=x7870 if x7889==5 & x7852==1\n",
    "gen rpyprivloan4=x7924 if x7894==5 & x7906==1\n",
    "gen rpyprivloan5=x7947 if x7899==5 & x7929==1\n",
    "gen rpyprivloan6=x7970 if x7994==5 & x7952==1\n",
    "\n",
    "egen norpyfedloan= rowtotal(norpybalfedloan1-norpybalfedloan6)\n",
    "egen rpyfedloans= rowtotal(rpybalfedloan1-rpybalfedloan6)\n",
    "    egen rpyprivloans= rowtotal(rpyprivloan1-rpyprivloan6)\n",
    "egen self_fedloans= rowtotal(selffedloan1-selffedloan6)\n",
    "egen spouse_fedloans= rowtotal(spousefedloan1-spousefedloan6)\n",
    "gen parentalfedloans= totfedloan_debt - self_fedloans - spouse_fedloans\n",
    "gen privateloans= edn_inst-totfedloan_debt\n",
    "    \n",
    "gen selfstudent=(x6670==4)\n",
    "gen spousestudent=(x6678==4)\n",
    "\n",
    "gen percapfedloan=totfedloan_debt\n",
    "replace percapfedloan=totfedloan_debt/2 if married==1 & totfedloan_debt!=0\n",
    "\n",
    "qui gen norpyfedloanpercap=norpyfedloan\n",
    "qui replace norpyfedloanpercap=norpyfedloan/2 if married==1 & norpyfedloanpercap!=0\n",
    "    \n",
    "gen percapprivate=privateloans\n",
    "    replace percapprivate=privateloans/2 if married==1 & privateloans!=0\n",
    "}"
   ]
  },
  {
   "cell_type": "code",
   "execution_count": 3,
   "metadata": {},
   "outputs": [],
   "source": [
    "label define cat 1 \"0-20%\" 2 \"20-40%\" 3 \"40-60%\" 4 \"60-80%\" 5 \"80-90%\" 6 \"90-100%\"\n",
    "label val assetcat cat\n",
    "label var assetcat \"household asset quantiles\""
   ]
  },
  {
   "cell_type": "code",
   "execution_count": 4,
   "metadata": {},
   "outputs": [],
   "source": [
    "qui recode race (2=1) (3=2) (1=3)\n",
    "qui label define race 1 \"Black\" 2 \"Latinx\" 3 \"white\" 5 \"other\"\n",
    "qui label values race race"
   ]
  },
  {
   "cell_type": "code",
   "execution_count": 5,
   "metadata": {},
   "outputs": [
    {
     "name": "stdout",
     "output_type": "stream",
     "text": [
      "file data/scfstudentdebt2019.dta saved\n"
     ]
    }
   ],
   "source": [
    "save data/scfstudentdebt2019, replace"
   ]
  }
 ],
 "metadata": {
  "kernelspec": {
   "display_name": "Stata",
   "language": "stata",
   "name": "stata"
  },
  "language_info": {
   "codemirror_mode": "stata",
   "file_extension": ".do",
   "mimetype": "text/x-stata",
   "name": "stata",
   "version": "15.1"
  }
 },
 "nbformat": 4,
 "nbformat_minor": 4
}
